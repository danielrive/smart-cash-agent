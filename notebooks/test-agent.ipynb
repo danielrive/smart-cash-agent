{
 "cells": [
  {
   "cell_type": "markdown",
   "metadata": {},
   "source": [
    "Let's activate the virtual env"
   ]
  },
  {
   "cell_type": "code",
   "execution_count": null,
   "metadata": {},
   "outputs": [],
   "source": [
    "!source ../.venv/bin/activate"
   ]
  },
  {
   "cell_type": "markdown",
   "metadata": {},
   "source": [
    "Install package needed"
   ]
  },
  {
   "cell_type": "code",
   "execution_count": null,
   "metadata": {},
   "outputs": [],
   "source": [
    "%pip install langgraph langchain langchain-aws dotenv pyppeteer"
   ]
  },
  {
   "cell_type": "markdown",
   "metadata": {},
   "source": [
    "Import necessary modules"
   ]
  },
  {
   "cell_type": "code",
   "execution_count": null,
   "metadata": {},
   "outputs": [],
   "source": [
    "# Cell 1: Imports and setup\n",
    "import sys\n",
    "import os\n",
    "\n",
    "import logging\n",
    "logging.basicConfig(\n",
    "    level=logging.DEBUG,\n",
    "    format=\"%(asctime)s [%(levelname)s] %(name)s - %(message)s\"\n",
    ")\n",
    "\n",
    "logger = logging.getLogger(__name__)\n",
    "\n",
    "try:\n",
    "    # For .py scripts: Use __file__\n",
    "    sys.path.append(os.path.abspath(os.path.join(os.path.dirname(__file__), '..')))\n",
    "except NameError:\n",
    "    # For Jupyter notebooks: Use current working directory and go up one level\n",
    "    notebook_dir = os.getcwd()  # Gets the directory where the notebook is running\n",
    "    sys.path.append(os.path.abspath(os.path.join(notebook_dir, '..')))  # Go to project root\n",
    "    \n",
    "from app.agent.agent import init_agent_state, web_search\n",
    "\n",
    "from app.agent.agent import run_agent\n",
    "test_cases = [\n",
    "    #\"What is the oposite of the word black\",\n",
    "    #\"How many moons does Jupiter have in 2024?\",\n",
    "    \"On June 6, 2023, an article by Carolyn Collins Petersen was published in Universe Today. This article mentions a team that produced a paper about their observations, linked at the bottom of the article. Find this paper. Under what NASA award number was the work performed by R. G. Arendt supported by?\",\n",
    "    #\"How many studio albums were published by Mercedes Sosa between 2000 and 2009 (included)? You can use the latest 2022 version of english wikipedia.\",\n",
    "   # \"What is 2+2?\"\n",
    "]\n",
    "for q in test_cases:\n",
    "    print(f\"\\nTesting: {q}\")\n",
    "    run_agent(q)"
   ]
  },
  {
   "cell_type": "code",
   "execution_count": null,
   "metadata": {},
   "outputs": [],
   "source": [
    "import sys\n",
    "import os\n",
    "try:\n",
    "    # For .py scripts: Use __file__\n",
    "    sys.path.append(os.path.abspath(os.path.join(os.path.dirname(__file__), '..')))\n",
    "except NameError:\n",
    "    # For Jupyter notebooks: Use current working directory and go up one level\n",
    "    notebook_dir = os.getcwd()  # Gets the directory where the notebook is running\n",
    "    sys.path.append(os.path.abspath(os.path.join(notebook_dir, '..')))  # Go to project root\n",
    "    \n",
    "from app.agent.agent import draw_graph\n",
    "\n",
    "\n",
    "draw_graph()\n"
   ]
  },
  {
   "cell_type": "code",
   "execution_count": null,
   "metadata": {},
   "outputs": [],
   "source": []
  }
 ],
 "metadata": {
  "kernelspec": {
   "display_name": ".venv",
   "language": "python",
   "name": "python3"
  },
  "language_info": {
   "codemirror_mode": {
    "name": "ipython",
    "version": 3
   },
   "file_extension": ".py",
   "mimetype": "text/x-python",
   "name": "python",
   "nbconvert_exporter": "python",
   "pygments_lexer": "ipython3",
   "version": "3.13.2"
  }
 },
 "nbformat": 4,
 "nbformat_minor": 2
}
