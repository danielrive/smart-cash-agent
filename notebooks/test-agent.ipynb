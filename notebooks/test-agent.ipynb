{
 "cells": [
  {
   "cell_type": "markdown",
   "metadata": {},
   "source": [
    "Let's activate the virtual env"
   ]
  },
  {
   "cell_type": "code",
   "execution_count": null,
   "metadata": {},
   "outputs": [],
   "source": [
    "!source ../.venv/bin/activate"
   ]
  },
  {
   "cell_type": "markdown",
   "metadata": {},
   "source": [
    "Install package needed"
   ]
  },
  {
   "cell_type": "code",
   "execution_count": null,
   "metadata": {},
   "outputs": [],
   "source": [
    "%pip install langgraph langchain langchain-aws dotenv pyppeteer"
   ]
  },
  {
   "cell_type": "markdown",
   "metadata": {},
   "source": [
    "Import necessary modules"
   ]
  },
  {
   "cell_type": "code",
   "execution_count": null,
   "metadata": {},
   "outputs": [],
   "source": [
    "# Cell 1: Imports and setup\n",
    "import sys\n",
    "import os\n",
    "try:\n",
    "    # For .py scripts: Use __file__\n",
    "    sys.path.append(os.path.abspath(os.path.join(os.path.dirname(__file__), '..')))\n",
    "except NameError:\n",
    "    # For Jupyter notebooks: Use current working directory and go up one level\n",
    "    notebook_dir = os.getcwd()  # Gets the directory where the notebook is running\n",
    "    sys.path.append(os.path.abspath(os.path.join(notebook_dir, '..')))  # Go to project root\n",
    "    \n",
    "from app.agent.agent import init_agent_state, web_search\n",
    "\n",
    "from app.agent.agent import run_agent\n",
    "\n",
    "test_cases = [\n",
    "    \"How many moons does Jupiter have in 2024?\",\n",
    "    \"How many euros i need to have 100 USD\",\n",
    "    \"What is 2+2?\"\n",
    "]\n",
    "for q in test_cases:\n",
    "    print(f\"\\nTesting: {q}\")\n",
    "    run_agent(q)"
   ]
  },
  {
   "cell_type": "markdown",
   "metadata": {},
   "source": [
    "Let's create a few tools"
   ]
  },
  {
   "cell_type": "code",
   "execution_count": null,
   "metadata": {},
   "outputs": [],
   "source": [
    "import sys\n",
    "import os\n",
    "try:\n",
    "    # For .py scripts: Use __file__\n",
    "    sys.path.append(os.path.abspath(os.path.join(os.path.dirname(__file__), '..')))\n",
    "except NameError:\n",
    "    # For Jupyter notebooks: Use current working directory and go up one level\n",
    "    notebook_dir = os.getcwd()  # Gets the directory where the notebook is running\n",
    "    sys.path.append(os.path.abspath(os.path.join(notebook_dir, '..')))  # Go to project root\n",
    "    \n",
    "from app.agent.agent import draw_graph\n",
    "\n",
    "\n",
    "draw_graph()\n"
   ]
  }
 ],
 "metadata": {
  "kernelspec": {
   "display_name": ".venv",
   "language": "python",
   "name": "python3"
  },
  "language_info": {
   "codemirror_mode": {
    "name": "ipython",
    "version": 3
   },
   "file_extension": ".py",
   "mimetype": "text/x-python",
   "name": "python",
   "nbconvert_exporter": "python",
   "pygments_lexer": "ipython3",
   "version": "3.13.2"
  }
 },
 "nbformat": 4,
 "nbformat_minor": 2
}
