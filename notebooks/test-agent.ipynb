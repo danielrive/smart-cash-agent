{
 "cells": [
  {
   "cell_type": "markdown",
   "metadata": {},
   "source": [
    "Let's activate the virtual env"
   ]
  },
  {
   "cell_type": "code",
   "execution_count": 1,
   "metadata": {},
   "outputs": [],
   "source": [
    "!source ../.venv/bin/activate"
   ]
  },
  {
   "cell_type": "markdown",
   "metadata": {},
   "source": [
    "Install package needed"
   ]
  },
  {
   "cell_type": "code",
   "execution_count": 2,
   "metadata": {},
   "outputs": [
    {
     "name": "stdout",
     "output_type": "stream",
     "text": [
      "Requirement already satisfied: langgraph in /Users/danielrivera/smart-cash-agent/.venv/lib/python3.13/site-packages (0.6.6)\n",
      "Requirement already satisfied: langchain in /Users/danielrivera/smart-cash-agent/.venv/lib/python3.13/site-packages (0.3.27)\n",
      "Requirement already satisfied: langchain-aws in /Users/danielrivera/smart-cash-agent/.venv/lib/python3.13/site-packages (0.2.31)\n",
      "Requirement already satisfied: dotenv in /Users/danielrivera/smart-cash-agent/.venv/lib/python3.13/site-packages (0.9.9)\n",
      "Requirement already satisfied: langchain-core>=0.1 in /Users/danielrivera/smart-cash-agent/.venv/lib/python3.13/site-packages (from langgraph) (0.3.75)\n",
      "Requirement already satisfied: langgraph-checkpoint<3.0.0,>=2.1.0 in /Users/danielrivera/smart-cash-agent/.venv/lib/python3.13/site-packages (from langgraph) (2.1.1)\n",
      "Requirement already satisfied: langgraph-prebuilt<0.7.0,>=0.6.0 in /Users/danielrivera/smart-cash-agent/.venv/lib/python3.13/site-packages (from langgraph) (0.6.4)\n",
      "Requirement already satisfied: langgraph-sdk<0.3.0,>=0.2.2 in /Users/danielrivera/smart-cash-agent/.venv/lib/python3.13/site-packages (from langgraph) (0.2.3)\n",
      "Requirement already satisfied: pydantic>=2.7.4 in /Users/danielrivera/smart-cash-agent/.venv/lib/python3.13/site-packages (from langgraph) (2.11.7)\n",
      "Requirement already satisfied: xxhash>=3.5.0 in /Users/danielrivera/smart-cash-agent/.venv/lib/python3.13/site-packages (from langgraph) (3.5.0)\n",
      "Requirement already satisfied: ormsgpack>=1.10.0 in /Users/danielrivera/smart-cash-agent/.venv/lib/python3.13/site-packages (from langgraph-checkpoint<3.0.0,>=2.1.0->langgraph) (1.10.0)\n",
      "Requirement already satisfied: httpx>=0.25.2 in /Users/danielrivera/smart-cash-agent/.venv/lib/python3.13/site-packages (from langgraph-sdk<0.3.0,>=0.2.2->langgraph) (0.28.1)\n",
      "Requirement already satisfied: orjson>=3.10.1 in /Users/danielrivera/smart-cash-agent/.venv/lib/python3.13/site-packages (from langgraph-sdk<0.3.0,>=0.2.2->langgraph) (3.11.2)\n",
      "Requirement already satisfied: langchain-text-splitters<1.0.0,>=0.3.9 in /Users/danielrivera/smart-cash-agent/.venv/lib/python3.13/site-packages (from langchain) (0.3.9)\n",
      "Requirement already satisfied: langsmith>=0.1.17 in /Users/danielrivera/smart-cash-agent/.venv/lib/python3.13/site-packages (from langchain) (0.4.16)\n",
      "Requirement already satisfied: SQLAlchemy<3,>=1.4 in /Users/danielrivera/smart-cash-agent/.venv/lib/python3.13/site-packages (from langchain) (2.0.43)\n",
      "Requirement already satisfied: requests<3,>=2 in /Users/danielrivera/smart-cash-agent/.venv/lib/python3.13/site-packages (from langchain) (2.32.5)\n",
      "Requirement already satisfied: PyYAML>=5.3 in /Users/danielrivera/smart-cash-agent/.venv/lib/python3.13/site-packages (from langchain) (6.0.2)\n",
      "Requirement already satisfied: tenacity!=8.4.0,<10.0.0,>=8.1.0 in /Users/danielrivera/smart-cash-agent/.venv/lib/python3.13/site-packages (from langchain-core>=0.1->langgraph) (9.1.2)\n",
      "Requirement already satisfied: jsonpatch<2.0,>=1.33 in /Users/danielrivera/smart-cash-agent/.venv/lib/python3.13/site-packages (from langchain-core>=0.1->langgraph) (1.33)\n",
      "Requirement already satisfied: typing-extensions>=4.7 in /Users/danielrivera/smart-cash-agent/.venv/lib/python3.13/site-packages (from langchain-core>=0.1->langgraph) (4.14.1)\n",
      "Requirement already satisfied: packaging>=23.2 in /Users/danielrivera/smart-cash-agent/.venv/lib/python3.13/site-packages (from langchain-core>=0.1->langgraph) (25.0)\n",
      "Requirement already satisfied: jsonpointer>=1.9 in /Users/danielrivera/smart-cash-agent/.venv/lib/python3.13/site-packages (from jsonpatch<2.0,>=1.33->langchain-core>=0.1->langgraph) (3.0.0)\n",
      "Requirement already satisfied: annotated-types>=0.6.0 in /Users/danielrivera/smart-cash-agent/.venv/lib/python3.13/site-packages (from pydantic>=2.7.4->langgraph) (0.7.0)\n",
      "Requirement already satisfied: pydantic-core==2.33.2 in /Users/danielrivera/smart-cash-agent/.venv/lib/python3.13/site-packages (from pydantic>=2.7.4->langgraph) (2.33.2)\n",
      "Requirement already satisfied: typing-inspection>=0.4.0 in /Users/danielrivera/smart-cash-agent/.venv/lib/python3.13/site-packages (from pydantic>=2.7.4->langgraph) (0.4.1)\n",
      "Requirement already satisfied: charset_normalizer<4,>=2 in /Users/danielrivera/smart-cash-agent/.venv/lib/python3.13/site-packages (from requests<3,>=2->langchain) (3.4.3)\n",
      "Requirement already satisfied: idna<4,>=2.5 in /Users/danielrivera/smart-cash-agent/.venv/lib/python3.13/site-packages (from requests<3,>=2->langchain) (3.10)\n",
      "Requirement already satisfied: urllib3<3,>=1.21.1 in /Users/danielrivera/smart-cash-agent/.venv/lib/python3.13/site-packages (from requests<3,>=2->langchain) (2.5.0)\n",
      "Requirement already satisfied: certifi>=2017.4.17 in /Users/danielrivera/smart-cash-agent/.venv/lib/python3.13/site-packages (from requests<3,>=2->langchain) (2025.8.3)\n",
      "Requirement already satisfied: boto3>=1.39.7 in /Users/danielrivera/smart-cash-agent/.venv/lib/python3.13/site-packages (from langchain-aws) (1.40.16)\n",
      "Requirement already satisfied: numpy<3,>=1.26.0 in /Users/danielrivera/smart-cash-agent/.venv/lib/python3.13/site-packages (from langchain-aws) (2.3.2)\n",
      "Requirement already satisfied: python-dotenv in /Users/danielrivera/smart-cash-agent/.venv/lib/python3.13/site-packages (from dotenv) (1.1.1)\n",
      "Requirement already satisfied: botocore<1.41.0,>=1.40.16 in /Users/danielrivera/smart-cash-agent/.venv/lib/python3.13/site-packages (from boto3>=1.39.7->langchain-aws) (1.40.16)\n",
      "Requirement already satisfied: jmespath<2.0.0,>=0.7.1 in /Users/danielrivera/smart-cash-agent/.venv/lib/python3.13/site-packages (from boto3>=1.39.7->langchain-aws) (1.0.1)\n",
      "Requirement already satisfied: s3transfer<0.14.0,>=0.13.0 in /Users/danielrivera/smart-cash-agent/.venv/lib/python3.13/site-packages (from boto3>=1.39.7->langchain-aws) (0.13.1)\n",
      "Requirement already satisfied: python-dateutil<3.0.0,>=2.1 in /Users/danielrivera/smart-cash-agent/.venv/lib/python3.13/site-packages (from botocore<1.41.0,>=1.40.16->boto3>=1.39.7->langchain-aws) (2.9.0.post0)\n",
      "Requirement already satisfied: six>=1.5 in /Users/danielrivera/smart-cash-agent/.venv/lib/python3.13/site-packages (from python-dateutil<3.0.0,>=2.1->botocore<1.41.0,>=1.40.16->boto3>=1.39.7->langchain-aws) (1.17.0)\n",
      "Requirement already satisfied: anyio in /Users/danielrivera/smart-cash-agent/.venv/lib/python3.13/site-packages (from httpx>=0.25.2->langgraph-sdk<0.3.0,>=0.2.2->langgraph) (4.10.0)\n",
      "Requirement already satisfied: httpcore==1.* in /Users/danielrivera/smart-cash-agent/.venv/lib/python3.13/site-packages (from httpx>=0.25.2->langgraph-sdk<0.3.0,>=0.2.2->langgraph) (1.0.9)\n",
      "Requirement already satisfied: h11>=0.16 in /Users/danielrivera/smart-cash-agent/.venv/lib/python3.13/site-packages (from httpcore==1.*->httpx>=0.25.2->langgraph-sdk<0.3.0,>=0.2.2->langgraph) (0.16.0)\n",
      "Requirement already satisfied: requests-toolbelt>=1.0.0 in /Users/danielrivera/smart-cash-agent/.venv/lib/python3.13/site-packages (from langsmith>=0.1.17->langchain) (1.0.0)\n",
      "Requirement already satisfied: zstandard>=0.23.0 in /Users/danielrivera/smart-cash-agent/.venv/lib/python3.13/site-packages (from langsmith>=0.1.17->langchain) (0.24.0)\n",
      "Requirement already satisfied: sniffio>=1.1 in /Users/danielrivera/smart-cash-agent/.venv/lib/python3.13/site-packages (from anyio->httpx>=0.25.2->langgraph-sdk<0.3.0,>=0.2.2->langgraph) (1.3.1)\n",
      "Note: you may need to restart the kernel to use updated packages.\n"
     ]
    }
   ],
   "source": [
    "%pip install langgraph langchain langchain-aws dotenv"
   ]
  },
  {
   "cell_type": "markdown",
   "metadata": {},
   "source": [
    "Import necessary modules"
   ]
  },
  {
   "cell_type": "code",
   "execution_count": 3,
   "metadata": {},
   "outputs": [
    {
     "name": "stdout",
     "output_type": "stream",
     "text": [
      "\n",
      "Testing: How many moons does Jupiter have in 2024?\n",
      "Searching for: 2024 moons Jupiter statistics data count\n",
      "Raw results: [{\"snippet\": \"1 week ago - There are 97 moons of Jupiter with confirmed orbits as of 30 April 2025 . This number does not include a number of meter-sized moonlets thought to be shed from the inner moons, nor hundreds of possible kilometer-sized outer irregular moons that were only briefly captured by telescopes.\", \"title\": \"Wikipedia Moons of Jupiter - Wikipedia\", \"link\": \"https://en.wikipedia.org/wiki/Moons_of_Jupiter\"}, {\"snippet\": \"June 12, 2025 - There are 97 known moons of Jupiter, as of 30 April 2025 . Jupiter has the second largest number of moons of any planet in the Solar System. The most massive of the moons are the four Galilean moons, which were independently discovered in 1610 by Galileo Galilei and Simon Marius.\", \"title\": \"Simple English Wikipedia List of Jupiter's moons - Simple English Wikipedia, the free encyclopedia\", \"link\": \"https://simple.wikipedia.org/wiki/List_of_Jupiter's_moons\"}, {\"snippet\": \"3 weeks ago - For example, Electron rockets launched ... are counted under the United States because Electron is an American rocket. For a launch attempt to be considered orbital it must be trying to achieve a positive perigee. For this reason the fourth and fifth flight tests of Starship are not included in the orbital statistics for 2024 . Launches from the Moon are not included ...\", \"title\": \"Wikipedia 2024 in spaceflight - Wikipedia\", \"link\": \"https://en.wikipedia.org/wiki/2024_in_spaceflight\"}, {\"snippet\": \"Jupiter in true colour,[a] taken by the Hubble Space Telescope in January 2024 [b]. Designations.The volcanoes on the moon Io emit large amounts of sulfur dioxide, forming a gas torus along its orbit. The gas is ionized in Jupiter 's magnetosphere, producing sulfur and oxygen ions.\", \"title\": \"Jupiter - Wikipedia\", \"link\": \"https://en.wikipedia.org/wiki/Jupiter\"}]\n",
      "Parsed 4 results for query: 2024 moons Jupiter statistics data count\n",
      "Searching for: How many moons does Jupiter have as of 2024\n",
      "Raw results: [{\"snippet\": \"Jupiter is a gas giant, meaning its chemical composition is primarily hydrogen and helium. These materials are classified as gasses in planetary geology, a term that does not denote the state of matter.\", \"title\": \"Jupiter - Wikipedia\", \"link\": \"https://en.wikipedia.org/wiki/Jupiter\"}, {\"snippet\": \"30 abr 2025 \\u2014 There are 97 moons of Jupiter with confirmed orbits as of 30 April 2025. This number does not include a number of meter-sized moonlets thought to be shed ...\", \"title\": \"Moons of Jupiter\", \"link\": \"https://en.wikipedia.org/wiki/Moons_of_Jupiter\"}, {\"snippet\": \"How many moons does Saturn have ? Saturn's eight largest moons were discovered between 1671 and 1848 by several astronomers. For much of the 20th century, the moon counts for Jupiter and Saturn remained relatively stable at 12 and eight, respectively.\", \"title\": \"How many moons does Jupiter have ? | Live Science\", \"link\": \"https://www.livescience.com/space/planets/how-many-moons-does-jupiter-have\"}, {\"snippet\": \"3 sept 2025 \\u2014 Jupiter has between 80 and 95 moons , but neither number captures the complexity of the Jovian system of moons, rings, and asteroids.\", \"title\": \"Jupiter Moons\", \"link\": \"https://science.nasa.gov/jupiter/jupiter-moons/\"}]\n",
      "Parsed 4 results for query: How many moons does Jupiter have as of 2024\n",
      "Searching for: 2024 moons Jupiter\n",
      "Raw results: [{\"snippet\": \"The Galilean moons are by far the largest and most massive objects to orbit Jupiter , with the remaining 93 known moons and the rings together comprising just 0.003% of the total orbiting mass.\", \"title\": \"Moons of Jupiter - Wikipedia\", \"link\": \"https://en.wikipedia.org/wiki/Moons_of_Jupiter\"}, {\"snippet\": \"1 mar 2025 \\u2014 Europa Clipper is a space probe developed by NASA to study Europa, a Galilean moon of Jupiter. It was launched on October 14, 2024. The spacecraft used a ...\", \"title\": \"Europa Clipper\", \"link\": \"https://en.wikipedia.org/wiki/Europa_Clipper\"}, {\"snippet\": \"3 sept 2025 \\u2014 Ganymede . Ganymede is Jupiter's largest moon, and the largest moon in our solar system. It's even bigger than Mercury, and Pluto.\", \"title\": \"Jupiter Moons\", \"link\": \"https://science.nasa.gov/jupiter/jupiter-moons/\"}, {\"snippet\": \"15 oct 2024 \\u2014 November 16, 2024 Moon and Jupiter . Once again, the Moon helps us to spot another planet this month. Find the almost full, but technically 96% illuminated ...\", \"title\": \"November 16, 2024 Moon and Jupiter\", \"link\": \"https://www.colorado.edu/fiske/2024/10/15/november-16-2024-moon-and-jupiter\"}]\n",
      "Parsed 4 results for query: 2024 moons Jupiter\n",
      "Result State: {'question': 'How many moons does Jupiter have in 2024?', 'messages': [AIMessage(content='Analysis: {\\'question_type\\': \\'factual\\', \\'selected_tools\\': [\\'web_search\\'], \\'redefined_question\\': \\'How many moons does Jupiter have as of 2024?\\', \\'reason\\': \"This is a factual question about the current number of known moons orbiting Jupiter. Jupiter\\'s moon count changes over time as new discoveries are made. To get the most accurate 2024 figure, a web search is needed.\"}', additional_kwargs={}, response_metadata={}, id='0609747d-1e10-438e-95cb-51d2719a45b4'), AIMessage(content='Selected tools: web_search for query: How many moons does Jupiter have as of 2024?', additional_kwargs={}, response_metadata={}, id='a0dd2fba-a022-43bd-9cd5-62b1408bccfd'), ToolMessage(content='[]', name='web_search', id='61773b63-0d22-443f-b83e-35c82489fb93', tool_call_id='call_web_search'), AIMessage(content='Synthesizing answer from analysis (placeholder).', additional_kwargs={}, response_metadata={}, id='0eb65bd8-337c-4fbd-ae9d-9355310d65cb')], 'redefined_question': 'How many moons does Jupiter have as of 2024?', 'question_type': 'factual', 'selected_tools': ['web_search'], 'current_step': 'synthesize_answer', 'final_answer': '', 'input_file': None, 'reason': ''}\n",
      "Question Type: factual\n",
      "Selected Tools: ['web_search']\n",
      "Refined Question: How many moons does Jupiter have as of 2024?\n",
      "Messages: ['Analysis: {\\'question_type\\': \\'factual\\', \\'selected_tools\\': [\\'web_search\\'], \\'redefined_question\\': \\'How many moons does Jupiter have as of 2024?\\', \\'reason\\': \"This is a factual question about the current number of known moons orbiting Jupiter. Jupiter\\'s moon count changes over time as new discoveries are made. To get the most accurate 2024 figure, a web search is needed.\"}', 'Selected tools: web_search for query: How many moons does Jupiter have as of 2024?', '[]', 'Synthesizing answer from analysis (placeholder).']\n",
      "\n",
      "Testing: How many euros i need to have 100 USD\n",
      "Result State: {'question': 'How many euros i need to have 100 USD', 'messages': [AIMessage(content='Analysis: {\\'question_type\\': \\'direct_answer\\', \\'selected_tools\\': [\\'currency_converter\\'], \\'redefined_question\\': \"What is the equivalent of 100 USD in euros using today\\'s exchange rate?\", \\'reason\\': \"This is a currency conversion problem requiring real-time exchange rate data. The web_search tool isn\\'t needed because currency_converter exists specifically for this purpose. The question should be clarified to specify today\\'s rate.\"}', additional_kwargs={}, response_metadata={}, id='d467a130-9040-4eb1-943e-01b003d245c6'), AIMessage(content=\"Selected tools: currency_converter for query: What is the equivalent of 100 USD in euros using today's exchange rate?\", additional_kwargs={}, response_metadata={}, id='61db36d9-83f2-4122-8807-9bdb1c76205d'), AIMessage(content='Synthesizing answer from analysis (placeholder).', additional_kwargs={}, response_metadata={}, id='c112530d-fe54-44ce-af54-875694116f5e')], 'redefined_question': \"What is the equivalent of 100 USD in euros using today's exchange rate?\", 'question_type': 'direct_answer', 'selected_tools': ['currency_converter'], 'current_step': 'synthesize_answer', 'final_answer': '', 'input_file': None, 'reason': ''}\n",
      "Question Type: direct_answer\n",
      "Selected Tools: ['currency_converter']\n",
      "Refined Question: What is the equivalent of 100 USD in euros using today's exchange rate?\n",
      "Messages: ['Analysis: {\\'question_type\\': \\'direct_answer\\', \\'selected_tools\\': [\\'currency_converter\\'], \\'redefined_question\\': \"What is the equivalent of 100 USD in euros using today\\'s exchange rate?\", \\'reason\\': \"This is a currency conversion problem requiring real-time exchange rate data. The web_search tool isn\\'t needed because currency_converter exists specifically for this purpose. The question should be clarified to specify today\\'s rate.\"}', \"Selected tools: currency_converter for query: What is the equivalent of 100 USD in euros using today's exchange rate?\", 'Synthesizing answer from analysis (placeholder).']\n",
      "\n",
      "Testing: What is 2+2?\n",
      "Result State: {'question': 'What is 2+2?', 'messages': [AIMessage(content='Analysis: {\\'question_type\\': \\'direct_answer\\', \\'selected_tools\\': [], \\'redefined_question\\': \\'What is 2+2?\\', \\'reason\\': \"This is a basic arithmetic calculation that doesn\\'t require external tools.\"}', additional_kwargs={}, response_metadata={}, id='618efacf-2ebd-4ab0-b1d2-486f8b3ba610'), AIMessage(content='No tools needed; proceeding to synthesis.', additional_kwargs={}, response_metadata={}, id='cd1f3e69-4eeb-49fe-9a6d-2be88b5f95a0'), AIMessage(content='Synthesizing answer from analysis (placeholder).', additional_kwargs={}, response_metadata={}, id='0fa6724f-b011-42df-9cfb-36333712e87e')], 'redefined_question': 'What is 2+2?', 'question_type': 'direct_answer', 'selected_tools': [], 'current_step': 'synthesize_answer', 'final_answer': '', 'input_file': None, 'reason': ''}\n",
      "Question Type: direct_answer\n",
      "Selected Tools: []\n",
      "Refined Question: What is 2+2?\n",
      "Messages: ['Analysis: {\\'question_type\\': \\'direct_answer\\', \\'selected_tools\\': [], \\'redefined_question\\': \\'What is 2+2?\\', \\'reason\\': \"This is a basic arithmetic calculation that doesn\\'t require external tools.\"}', 'No tools needed; proceeding to synthesis.', 'Synthesizing answer from analysis (placeholder).']\n"
     ]
    }
   ],
   "source": [
    "# Cell 1: Imports and setup\n",
    "import sys\n",
    "import os\n",
    "try:\n",
    "    # For .py scripts: Use __file__\n",
    "    sys.path.append(os.path.abspath(os.path.join(os.path.dirname(__file__), '..')))\n",
    "except NameError:\n",
    "    # For Jupyter notebooks: Use current working directory and go up one level\n",
    "    notebook_dir = os.getcwd()  # Gets the directory where the notebook is running\n",
    "    sys.path.append(os.path.abspath(os.path.join(notebook_dir, '..')))  # Go to project root\n",
    "    \n",
    "from app.agent.agent import init_agent_state, web_search\n",
    "\n",
    "from app.agent.agent import run_agent\n",
    "test_cases = [\n",
    "    \"How many moons does Jupiter have in 2024?\",\n",
    "    \"How many euros i need to have 100 USD\",\n",
    "    \"What is 2+2?\"\n",
    "]\n",
    "for q in test_cases:\n",
    "    print(f\"\\nTesting: {q}\")\n",
    "    run_agent(q)"
   ]
  },
  {
   "cell_type": "markdown",
   "metadata": {},
   "source": [
    "Let's create a few tools"
   ]
  },
  {
   "cell_type": "code",
   "execution_count": null,
   "metadata": {},
   "outputs": [],
   "source": [
    "print(state)  # Should show all fields initialized\n",
    "print(web_search.invoke({\"query\": \"test\"}))  # Test tool (should call SearchTool.run)"
   ]
  }
 ],
 "metadata": {
  "kernelspec": {
   "display_name": ".venv",
   "language": "python",
   "name": "python3"
  },
  "language_info": {
   "codemirror_mode": {
    "name": "ipython",
    "version": 3
   },
   "file_extension": ".py",
   "mimetype": "text/x-python",
   "name": "python",
   "nbconvert_exporter": "python",
   "pygments_lexer": "ipython3",
   "version": "3.13.2"
  }
 },
 "nbformat": 4,
 "nbformat_minor": 2
}
