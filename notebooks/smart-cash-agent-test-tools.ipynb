{
 "cells": [
  {
   "cell_type": "markdown",
   "metadata": {},
   "source": [
    "Let's activate the virtual env"
   ]
  },
  {
   "cell_type": "code",
   "execution_count": null,
   "metadata": {},
   "outputs": [],
   "source": [
    "!source ../.venv/bin/activate"
   ]
  },
  {
   "cell_type": "markdown",
   "metadata": {},
   "source": [
    "Install package needed"
   ]
  },
  {
   "cell_type": "code",
   "execution_count": null,
   "metadata": {},
   "outputs": [],
   "source": [
    "%pip install dotenv requests"
   ]
  },
  {
   "cell_type": "code",
   "execution_count": null,
   "metadata": {},
   "outputs": [],
   "source": [
    "import requests\n",
    "from decimal import Decimal, ROUND_HALF_UP, getcontext\n",
    "from typing import Optional\n",
    "\n",
    "# Set global precision for Decimal (more than enough for FX rates)\n",
    "getcontext().prec = 12\n",
    "\n",
    "def get_exchange_rate(base_currency: str, target_currency: str) -> Optional[float]:\n",
    "    \"\"\"\n",
    "    Fetch the current exchange rate between two currencies using ExchangeRate API.\n",
    "\n",
    "    Thanks to https://www.exchangerate-api.com Rates By Exchange Rate API \n",
    "\n",
    "    Args:\n",
    "        base_currency (str): The currency code to convert from (e.g., \"EUR\").\n",
    "        target_currency (str): The currency code to convert to (e.g., \"USD\").\n",
    "\n",
    "    Returns:\n",
    "        float: The exchange rate (1 base_currency = X target_currency).\n",
    "        None: If the request fails or the API does not return success.\n",
    "    \"\"\"\n",
    "    base_url = \"https://open.er-api.com/v6/latest/\"\n",
    "    try:\n",
    "        response = requests.get(f\"{base_url}{base_currency}\", timeout=10)\n",
    "        response.raise_for_status()\n",
    "        data = response.json()\n",
    "\n",
    "        if data.get(\"result\") != \"success\":\n",
    "            return None\n",
    "\n",
    "        rate = data[\"rates\"].get(target_currency)\n",
    "        if rate is None:\n",
    "            return None\n",
    "\n",
    "        return Decimal(str(rate))\n",
    "\n",
    "    except requests.RequestException as e:\n",
    "        print(f\"Error fetching exchange rate: {e}\")\n",
    "        return None\n",
    "\n",
    "\n",
    "def convert_currency(value: float, base_currency: str, target_currency: str,rounding: str = ROUND_HALF_UP) -> Optional[float]:\n",
    "    \"\"\"\n",
    "    Convert an amount from one currency to another using live exchange rates provided by By Exchange Rate API, check https://www.exchangerate-api.com\n",
    "\n",
    "    Args:\n",
    "        value (float): Amount in the base currency.\n",
    "        base_currency (str): The currency code to convert from.\n",
    "        target_currency (str): The currency code to convert to.\n",
    "        rounding (str): Decimal rounding strategy (default: ROUND_HALF_UP).\n",
    "\n",
    "    Returns:\n",
    "        float: Converted amount.\n",
    "        None: If conversion fails.\n",
    "    \"\"\"\n",
    "    rate = get_exchange_rate(base_currency, target_currency)\n",
    "    if rate is None:\n",
    "        return None\n",
    "    \n",
    "    amount = Decimal(str(value)) * rate\n",
    "    # Round to 2 decimal places (standard for currencies)\n",
    "    return amount.quantize(Decimal(\"0.01\"), rounding=rounding)\n"
   ]
  },
  {
   "cell_type": "markdown",
   "metadata": {},
   "source": [
    "testing functions"
   ]
  },
  {
   "cell_type": "code",
   "execution_count": null,
   "metadata": {},
   "outputs": [],
   "source": [
    "convert_currency(1,\"USD\",\"COP\")"
   ]
  }
 ],
 "metadata": {
  "kernelspec": {
   "display_name": ".venv",
   "language": "python",
   "name": "python3"
  },
  "language_info": {
   "codemirror_mode": {
    "name": "ipython",
    "version": 3
   },
   "file_extension": ".py",
   "mimetype": "text/x-python",
   "name": "python",
   "nbconvert_exporter": "python",
   "pygments_lexer": "ipython3",
   "version": "3.13.2"
  }
 },
 "nbformat": 4,
 "nbformat_minor": 2
}
