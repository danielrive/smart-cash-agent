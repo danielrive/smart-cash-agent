{
 "cells": [
  {
   "cell_type": "code",
   "execution_count": null,
   "id": "4fc06138",
   "metadata": {},
   "outputs": [],
   "source": [
    "!source ../.venv/bin/activate"
   ]
  },
  {
   "cell_type": "code",
   "execution_count": null,
   "id": "a7a8541a",
   "metadata": {},
   "outputs": [],
   "source": [
    "%pip install langgraph langchain langchain-aws dotenv spacy langchain-community duckduckgo-search wikipedia"
   ]
  },
  {
   "cell_type": "code",
   "execution_count": null,
   "id": "29895b56",
   "metadata": {},
   "outputs": [],
   "source": [
    "from langchain.chat_models import init_chat_model"
   ]
  },
  {
   "cell_type": "code",
   "execution_count": null,
   "id": "b8b25031",
   "metadata": {},
   "outputs": [],
   "source": [
    "!python -m spacy download en_core_web_sm"
   ]
  },
  {
   "cell_type": "code",
   "execution_count": null,
   "id": "3c278c96",
   "metadata": {},
   "outputs": [],
   "source": [
    "# Cell 1: Set up imports and fix module path\n",
    "import sys\n",
    "import os\n",
    "sys.path.append(\"../app\")\n",
    "import json\n",
    "from tools.web_search_tool import SearchTool"
   ]
  },
  {
   "cell_type": "code",
   "execution_count": null,
   "id": "c471d957",
   "metadata": {},
   "outputs": [],
   "source": [
    "from langchain_community.utilities import DuckDuckGoSearchAPIWrapper\n",
    "from langchain_community.tools import DuckDuckGoSearchResults\n",
    "\n",
    "search = DuckDuckGoSearchResults(output_format=\"json\")\n",
    "\n",
    "wrapper = DuckDuckGoSearchAPIWrapper(max_results=6)\n",
    "\n",
    "search = DuckDuckGoSearchResults(api_wrapper=wrapper, source=\"news\")\n",
    "\n",
    "resultados = search.invoke(\"How many moons Jupiter have in 2024?\")\n",
    "\n",
    "print(resultados)"
   ]
  },
  {
   "cell_type": "code",
   "execution_count": null,
   "id": "bb0e38b5",
   "metadata": {},
   "outputs": [],
   "source": [
    "# Initialize SearchTool\n",
    "search_tool = SearchTool(max_results=5)\n",
    "\n",
    "print(\"Testing _extract_key_terms:\")\n",
    "test_questions = [\n",
    "    \"What is the capital of France?\",\n",
    "    \"How many moons does Jupiter have in 2024?\",\n",
    "    \"Why did the Titanic sink?\",\n",
    "    \"Compare Tesla and Toyota sales in 2024\",\n",
    "    \"What is Python programming language?\"\n",
    "]\n",
    "\n",
    "print(\"Testing full SearchTool:\")\n",
    "for question in test_questions:\n",
    "    print(f\"\\nQuestion: {question}\")\n",
    "    result = search_tool.run(question)\n",
    "    print(\"Result:\")\n",
    "    print(result)\n"
   ]
  },
  {
   "cell_type": "code",
   "execution_count": null,
   "id": "a38d9d09",
   "metadata": {},
   "outputs": [],
   "source": [
    "\n",
    "\n"
   ]
  }
 ],
 "metadata": {
  "kernelspec": {
   "display_name": ".venv",
   "language": "python",
   "name": "python3"
  },
  "language_info": {
   "codemirror_mode": {
    "name": "ipython",
    "version": 3
   },
   "file_extension": ".py",
   "mimetype": "text/x-python",
   "name": "python",
   "nbconvert_exporter": "python",
   "pygments_lexer": "ipython3",
   "version": "3.13.2"
  }
 },
 "nbformat": 4,
 "nbformat_minor": 5
}
